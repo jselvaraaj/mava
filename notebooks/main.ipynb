{
  "cells": [
    {
      "cell_type": "code",
      "execution_count": null,
      "metadata": {
        "colab": {
          "base_uri": "https://localhost:8080/"
        },
        "id": "X6txyRETlYvd",
        "outputId": "328191ba-27f2-445c-a0ac-c6049882032c"
      },
      "outputs": [],
      "source": [
        "# @title Setup\n",
        "\n",
        "import IPython\n",
        "ipython = IPython.get_ipython()\n",
        "\n",
        "from pathlib import Path\n",
        "import os\n",
        "import torch\n",
        "\n",
        "if 'COLAB_TPU_ADDR' in os.environ:\n",
        "  device = \"tpu\"\n",
        "elif torch.cuda.is_available():\n",
        "  device = \"cuda12\"\n",
        "else:\n",
        "  device = \"cpu\"\n",
        "\n",
        "if not Path('mava').is_dir() and os.path.basename(os.getcwd()) != 'mava':\n",
        "  !git clone -q https://github.com/jselvaraaj/mava.git\n",
        "  ipython.run_line_magic('load_ext', 'autoreload')\n",
        "  ipython.run_line_magic('autoreload', 2)\n",
        "  ipython.run_line_magic('cd', 'mava')\n",
        "\n",
        "  # default tensorflow cuda version in colab conflicts with the jax cuda version that will be installed.\n",
        "  # so remove default tensorflow installation.\n",
        "  # https://github.com/tensorflow/tensorflow/issues/63109#issuecomment-2560714965\n",
        "  !uv pip uninstall --system tensorflow\n",
        "\n",
        "  !uv pip install --system -q \"jax[{device}]==0.4.30\"\n",
        "  !uv pip install --system -qe .\n",
        "\n",
        "  # !uv sync --extra $device --prerelease=allow\n",
        "  # !wandb login\n",
        "\n",
        "\n",
        "if os.path.basename(os.getcwd()) != 'mava':\n",
        "  ipython.run_line_magic('cd', 'mava')\n",
        "\n",
        "# import os\n",
        "# os.environ['JAX_COMPILATION_CACHE_DIR'] = '/content/jax_cache'\n",
        "# os.environ['JAX_PERSISTENT_CACHE_MIN_ENTRY_SIZE_BYTES'] = '-1'\n",
        "# os.environ['JAX_PERSISTENT_CACHE_MIN_COMPILE_TIME_SECS'] = '0'\n",
        "# if device == \"tpu\":\n",
        "#   os.environ['JAX_PERSISTENT_CACHE_ENABLE_XLA_CACHES'] = 'all'\n"
      ]
    },
    {
      "cell_type": "markdown",
      "metadata": {
        "id": "9_H8Kw4YmEl5"
      },
      "source": [
        "Now edit the config in JaxInforMARL/config/mappo_config.py\n",
        "\n",
        "You have you restart the runtime before running the next cell for changes in the config values to be reflected since the config object is a flax data class which is immutable and doesn't seem to work with `%load_ext autoreload %autoreload 2`"
      ]
    },
    {
      "cell_type": "code",
      "execution_count": null,
      "metadata": {
        "cellView": "form",
        "colab": {
          "base_uri": "https://localhost:8080/"
        },
        "id": "p_8f8YlyaJl_",
        "outputId": "916d0c8a-f788-47a9-8fb0-525df169ee1c"
      },
      "outputs": [],
      "source": [
        "# @title Train\n",
        "\n",
        "!python -m mava.systems.ppo.anakin.ff_ippo"
      ]
    },
    {
      "cell_type": "code",
      "execution_count": null,
      "metadata": {
        "cellView": "form",
        "id": "uJf0CCpfowg4"
      },
      "outputs": [],
      "source": [
        "# @title Clean up\n",
        "\n",
        "# %cd ..\n",
        "!rm -rf mava\n",
        "!rm -rf jax_cache"
      ]
    },
    {
      "cell_type": "code",
      "execution_count": null,
      "metadata": {
        "id": "-XU156Kh4UGc"
      },
      "outputs": [],
      "source": []
    }
  ],
  "metadata": {
    "accelerator": "GPU",
    "colab": {
      "gpuType": "T4",
      "provenance": []
    },
    "kernelspec": {
      "display_name": "Python 3",
      "name": "python3"
    },
    "language_info": {
      "name": "python"
    }
  },
  "nbformat": 4,
  "nbformat_minor": 0
}
